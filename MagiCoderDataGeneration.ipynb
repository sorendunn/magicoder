{
  "nbformat": 4,
  "nbformat_minor": 0,
  "metadata": {
    "colab": {
      "provenance": [],
      "collapsed_sections": [
        "BdTc3C8y1PIp"
      ],
      "mount_file_id": "1YJotGSGvxH-77FRpf3hGqLL5wYb-rE_R",
      "authorship_tag": "ABX9TyMB9/M4l9wIYlqPpybuPMqD",
      "include_colab_link": true
    },
    "kernelspec": {
      "name": "python3",
      "display_name": "Python 3"
    },
    "language_info": {
      "name": "python"
    },
    "widgets": {
      "application/vnd.jupyter.widget-state+json": {
        "863aa3a45e0f41009a0d11ddea223c0a": {
          "model_module": "@jupyter-widgets/controls",
          "model_name": "VBoxModel",
          "model_module_version": "1.5.0",
          "state": {
            "_dom_classes": [],
            "_model_module": "@jupyter-widgets/controls",
            "_model_module_version": "1.5.0",
            "_model_name": "VBoxModel",
            "_view_count": null,
            "_view_module": "@jupyter-widgets/controls",
            "_view_module_version": "1.5.0",
            "_view_name": "VBoxView",
            "box_style": "",
            "children": [
              "IPY_MODEL_d0401cf1857f457fad97ffe9f30a9fa3",
              "IPY_MODEL_ed2add2642f5428c970f131ee61c3be1",
              "IPY_MODEL_4be8e006f1d242da894df7191da06999",
              "IPY_MODEL_e5b618d4af604917bd535f2a33db290a"
            ],
            "layout": "IPY_MODEL_86162d2873634899b6555515c53e7c2c"
          }
        },
        "0f100b83caae4fd18e8281253e1d8365": {
          "model_module": "@jupyter-widgets/controls",
          "model_name": "HTMLModel",
          "model_module_version": "1.5.0",
          "state": {
            "_dom_classes": [],
            "_model_module": "@jupyter-widgets/controls",
            "_model_module_version": "1.5.0",
            "_model_name": "HTMLModel",
            "_view_count": null,
            "_view_module": "@jupyter-widgets/controls",
            "_view_module_version": "1.5.0",
            "_view_name": "HTMLView",
            "description": "",
            "description_tooltip": null,
            "layout": "IPY_MODEL_6175f287711142e4b81fa9bceb8cd386",
            "placeholder": "​",
            "style": "IPY_MODEL_41f655a0e4564c7da562aa09fd73aca5",
            "value": "<center> <img\nsrc=https://huggingface.co/front/assets/huggingface_logo-noborder.svg\nalt='Hugging Face'> <br> Copy a token from <a\nhref=\"https://huggingface.co/settings/tokens\" target=\"_blank\">your Hugging Face\ntokens page</a> and paste it below. <br> Immediately click login after copying\nyour token or it might be stored in plain text in this notebook file. </center>"
          }
        },
        "3a135936a1ab4851a625932970c1857a": {
          "model_module": "@jupyter-widgets/controls",
          "model_name": "PasswordModel",
          "model_module_version": "1.5.0",
          "state": {
            "_dom_classes": [],
            "_model_module": "@jupyter-widgets/controls",
            "_model_module_version": "1.5.0",
            "_model_name": "PasswordModel",
            "_view_count": null,
            "_view_module": "@jupyter-widgets/controls",
            "_view_module_version": "1.5.0",
            "_view_name": "PasswordView",
            "continuous_update": true,
            "description": "Token:",
            "description_tooltip": null,
            "disabled": false,
            "layout": "IPY_MODEL_77d9e8ebd2374e988ee7828dff7e247a",
            "placeholder": "​",
            "style": "IPY_MODEL_348486b3533c40fcbe649a2a30a5cab0",
            "value": ""
          }
        },
        "6c7388848ff2476f9cb5f22a6438e3d7": {
          "model_module": "@jupyter-widgets/controls",
          "model_name": "CheckboxModel",
          "model_module_version": "1.5.0",
          "state": {
            "_dom_classes": [],
            "_model_module": "@jupyter-widgets/controls",
            "_model_module_version": "1.5.0",
            "_model_name": "CheckboxModel",
            "_view_count": null,
            "_view_module": "@jupyter-widgets/controls",
            "_view_module_version": "1.5.0",
            "_view_name": "CheckboxView",
            "description": "Add token as git credential?",
            "description_tooltip": null,
            "disabled": false,
            "indent": true,
            "layout": "IPY_MODEL_c37093fb2334403e8b5de083fbc81220",
            "style": "IPY_MODEL_2ffd9610782944d6931dd6ff166777cb",
            "value": true
          }
        },
        "93596db25326406e84e23e1f3ca381ba": {
          "model_module": "@jupyter-widgets/controls",
          "model_name": "ButtonModel",
          "model_module_version": "1.5.0",
          "state": {
            "_dom_classes": [],
            "_model_module": "@jupyter-widgets/controls",
            "_model_module_version": "1.5.0",
            "_model_name": "ButtonModel",
            "_view_count": null,
            "_view_module": "@jupyter-widgets/controls",
            "_view_module_version": "1.5.0",
            "_view_name": "ButtonView",
            "button_style": "",
            "description": "Login",
            "disabled": false,
            "icon": "",
            "layout": "IPY_MODEL_c5a71e425f0b41a99ad8a25c12a8194f",
            "style": "IPY_MODEL_37c4577d99b449a8a5c12ce5bebdcf00",
            "tooltip": ""
          }
        },
        "fb1f9562af004823b67a11666297e7bc": {
          "model_module": "@jupyter-widgets/controls",
          "model_name": "HTMLModel",
          "model_module_version": "1.5.0",
          "state": {
            "_dom_classes": [],
            "_model_module": "@jupyter-widgets/controls",
            "_model_module_version": "1.5.0",
            "_model_name": "HTMLModel",
            "_view_count": null,
            "_view_module": "@jupyter-widgets/controls",
            "_view_module_version": "1.5.0",
            "_view_name": "HTMLView",
            "description": "",
            "description_tooltip": null,
            "layout": "IPY_MODEL_1cfc14a8bf134768ab70617ded36c3db",
            "placeholder": "​",
            "style": "IPY_MODEL_127334ac754049b2b0bac295173e03e1",
            "value": "\n<b>Pro Tip:</b> If you don't already have one, you can create a dedicated\n'notebooks' token with 'write' access, that you can then easily reuse for all\nnotebooks. </center>"
          }
        },
        "86162d2873634899b6555515c53e7c2c": {
          "model_module": "@jupyter-widgets/base",
          "model_name": "LayoutModel",
          "model_module_version": "1.2.0",
          "state": {
            "_model_module": "@jupyter-widgets/base",
            "_model_module_version": "1.2.0",
            "_model_name": "LayoutModel",
            "_view_count": null,
            "_view_module": "@jupyter-widgets/base",
            "_view_module_version": "1.2.0",
            "_view_name": "LayoutView",
            "align_content": null,
            "align_items": "center",
            "align_self": null,
            "border": null,
            "bottom": null,
            "display": "flex",
            "flex": null,
            "flex_flow": "column",
            "grid_area": null,
            "grid_auto_columns": null,
            "grid_auto_flow": null,
            "grid_auto_rows": null,
            "grid_column": null,
            "grid_gap": null,
            "grid_row": null,
            "grid_template_areas": null,
            "grid_template_columns": null,
            "grid_template_rows": null,
            "height": null,
            "justify_content": null,
            "justify_items": null,
            "left": null,
            "margin": null,
            "max_height": null,
            "max_width": null,
            "min_height": null,
            "min_width": null,
            "object_fit": null,
            "object_position": null,
            "order": null,
            "overflow": null,
            "overflow_x": null,
            "overflow_y": null,
            "padding": null,
            "right": null,
            "top": null,
            "visibility": null,
            "width": "50%"
          }
        },
        "6175f287711142e4b81fa9bceb8cd386": {
          "model_module": "@jupyter-widgets/base",
          "model_name": "LayoutModel",
          "model_module_version": "1.2.0",
          "state": {
            "_model_module": "@jupyter-widgets/base",
            "_model_module_version": "1.2.0",
            "_model_name": "LayoutModel",
            "_view_count": null,
            "_view_module": "@jupyter-widgets/base",
            "_view_module_version": "1.2.0",
            "_view_name": "LayoutView",
            "align_content": null,
            "align_items": null,
            "align_self": null,
            "border": null,
            "bottom": null,
            "display": null,
            "flex": null,
            "flex_flow": null,
            "grid_area": null,
            "grid_auto_columns": null,
            "grid_auto_flow": null,
            "grid_auto_rows": null,
            "grid_column": null,
            "grid_gap": null,
            "grid_row": null,
            "grid_template_areas": null,
            "grid_template_columns": null,
            "grid_template_rows": null,
            "height": null,
            "justify_content": null,
            "justify_items": null,
            "left": null,
            "margin": null,
            "max_height": null,
            "max_width": null,
            "min_height": null,
            "min_width": null,
            "object_fit": null,
            "object_position": null,
            "order": null,
            "overflow": null,
            "overflow_x": null,
            "overflow_y": null,
            "padding": null,
            "right": null,
            "top": null,
            "visibility": null,
            "width": null
          }
        },
        "41f655a0e4564c7da562aa09fd73aca5": {
          "model_module": "@jupyter-widgets/controls",
          "model_name": "DescriptionStyleModel",
          "model_module_version": "1.5.0",
          "state": {
            "_model_module": "@jupyter-widgets/controls",
            "_model_module_version": "1.5.0",
            "_model_name": "DescriptionStyleModel",
            "_view_count": null,
            "_view_module": "@jupyter-widgets/base",
            "_view_module_version": "1.2.0",
            "_view_name": "StyleView",
            "description_width": ""
          }
        },
        "77d9e8ebd2374e988ee7828dff7e247a": {
          "model_module": "@jupyter-widgets/base",
          "model_name": "LayoutModel",
          "model_module_version": "1.2.0",
          "state": {
            "_model_module": "@jupyter-widgets/base",
            "_model_module_version": "1.2.0",
            "_model_name": "LayoutModel",
            "_view_count": null,
            "_view_module": "@jupyter-widgets/base",
            "_view_module_version": "1.2.0",
            "_view_name": "LayoutView",
            "align_content": null,
            "align_items": null,
            "align_self": null,
            "border": null,
            "bottom": null,
            "display": null,
            "flex": null,
            "flex_flow": null,
            "grid_area": null,
            "grid_auto_columns": null,
            "grid_auto_flow": null,
            "grid_auto_rows": null,
            "grid_column": null,
            "grid_gap": null,
            "grid_row": null,
            "grid_template_areas": null,
            "grid_template_columns": null,
            "grid_template_rows": null,
            "height": null,
            "justify_content": null,
            "justify_items": null,
            "left": null,
            "margin": null,
            "max_height": null,
            "max_width": null,
            "min_height": null,
            "min_width": null,
            "object_fit": null,
            "object_position": null,
            "order": null,
            "overflow": null,
            "overflow_x": null,
            "overflow_y": null,
            "padding": null,
            "right": null,
            "top": null,
            "visibility": null,
            "width": null
          }
        },
        "348486b3533c40fcbe649a2a30a5cab0": {
          "model_module": "@jupyter-widgets/controls",
          "model_name": "DescriptionStyleModel",
          "model_module_version": "1.5.0",
          "state": {
            "_model_module": "@jupyter-widgets/controls",
            "_model_module_version": "1.5.0",
            "_model_name": "DescriptionStyleModel",
            "_view_count": null,
            "_view_module": "@jupyter-widgets/base",
            "_view_module_version": "1.2.0",
            "_view_name": "StyleView",
            "description_width": ""
          }
        },
        "c37093fb2334403e8b5de083fbc81220": {
          "model_module": "@jupyter-widgets/base",
          "model_name": "LayoutModel",
          "model_module_version": "1.2.0",
          "state": {
            "_model_module": "@jupyter-widgets/base",
            "_model_module_version": "1.2.0",
            "_model_name": "LayoutModel",
            "_view_count": null,
            "_view_module": "@jupyter-widgets/base",
            "_view_module_version": "1.2.0",
            "_view_name": "LayoutView",
            "align_content": null,
            "align_items": null,
            "align_self": null,
            "border": null,
            "bottom": null,
            "display": null,
            "flex": null,
            "flex_flow": null,
            "grid_area": null,
            "grid_auto_columns": null,
            "grid_auto_flow": null,
            "grid_auto_rows": null,
            "grid_column": null,
            "grid_gap": null,
            "grid_row": null,
            "grid_template_areas": null,
            "grid_template_columns": null,
            "grid_template_rows": null,
            "height": null,
            "justify_content": null,
            "justify_items": null,
            "left": null,
            "margin": null,
            "max_height": null,
            "max_width": null,
            "min_height": null,
            "min_width": null,
            "object_fit": null,
            "object_position": null,
            "order": null,
            "overflow": null,
            "overflow_x": null,
            "overflow_y": null,
            "padding": null,
            "right": null,
            "top": null,
            "visibility": null,
            "width": null
          }
        },
        "2ffd9610782944d6931dd6ff166777cb": {
          "model_module": "@jupyter-widgets/controls",
          "model_name": "DescriptionStyleModel",
          "model_module_version": "1.5.0",
          "state": {
            "_model_module": "@jupyter-widgets/controls",
            "_model_module_version": "1.5.0",
            "_model_name": "DescriptionStyleModel",
            "_view_count": null,
            "_view_module": "@jupyter-widgets/base",
            "_view_module_version": "1.2.0",
            "_view_name": "StyleView",
            "description_width": ""
          }
        },
        "c5a71e425f0b41a99ad8a25c12a8194f": {
          "model_module": "@jupyter-widgets/base",
          "model_name": "LayoutModel",
          "model_module_version": "1.2.0",
          "state": {
            "_model_module": "@jupyter-widgets/base",
            "_model_module_version": "1.2.0",
            "_model_name": "LayoutModel",
            "_view_count": null,
            "_view_module": "@jupyter-widgets/base",
            "_view_module_version": "1.2.0",
            "_view_name": "LayoutView",
            "align_content": null,
            "align_items": null,
            "align_self": null,
            "border": null,
            "bottom": null,
            "display": null,
            "flex": null,
            "flex_flow": null,
            "grid_area": null,
            "grid_auto_columns": null,
            "grid_auto_flow": null,
            "grid_auto_rows": null,
            "grid_column": null,
            "grid_gap": null,
            "grid_row": null,
            "grid_template_areas": null,
            "grid_template_columns": null,
            "grid_template_rows": null,
            "height": null,
            "justify_content": null,
            "justify_items": null,
            "left": null,
            "margin": null,
            "max_height": null,
            "max_width": null,
            "min_height": null,
            "min_width": null,
            "object_fit": null,
            "object_position": null,
            "order": null,
            "overflow": null,
            "overflow_x": null,
            "overflow_y": null,
            "padding": null,
            "right": null,
            "top": null,
            "visibility": null,
            "width": null
          }
        },
        "37c4577d99b449a8a5c12ce5bebdcf00": {
          "model_module": "@jupyter-widgets/controls",
          "model_name": "ButtonStyleModel",
          "model_module_version": "1.5.0",
          "state": {
            "_model_module": "@jupyter-widgets/controls",
            "_model_module_version": "1.5.0",
            "_model_name": "ButtonStyleModel",
            "_view_count": null,
            "_view_module": "@jupyter-widgets/base",
            "_view_module_version": "1.2.0",
            "_view_name": "StyleView",
            "button_color": null,
            "font_weight": ""
          }
        },
        "1cfc14a8bf134768ab70617ded36c3db": {
          "model_module": "@jupyter-widgets/base",
          "model_name": "LayoutModel",
          "model_module_version": "1.2.0",
          "state": {
            "_model_module": "@jupyter-widgets/base",
            "_model_module_version": "1.2.0",
            "_model_name": "LayoutModel",
            "_view_count": null,
            "_view_module": "@jupyter-widgets/base",
            "_view_module_version": "1.2.0",
            "_view_name": "LayoutView",
            "align_content": null,
            "align_items": null,
            "align_self": null,
            "border": null,
            "bottom": null,
            "display": null,
            "flex": null,
            "flex_flow": null,
            "grid_area": null,
            "grid_auto_columns": null,
            "grid_auto_flow": null,
            "grid_auto_rows": null,
            "grid_column": null,
            "grid_gap": null,
            "grid_row": null,
            "grid_template_areas": null,
            "grid_template_columns": null,
            "grid_template_rows": null,
            "height": null,
            "justify_content": null,
            "justify_items": null,
            "left": null,
            "margin": null,
            "max_height": null,
            "max_width": null,
            "min_height": null,
            "min_width": null,
            "object_fit": null,
            "object_position": null,
            "order": null,
            "overflow": null,
            "overflow_x": null,
            "overflow_y": null,
            "padding": null,
            "right": null,
            "top": null,
            "visibility": null,
            "width": null
          }
        },
        "127334ac754049b2b0bac295173e03e1": {
          "model_module": "@jupyter-widgets/controls",
          "model_name": "DescriptionStyleModel",
          "model_module_version": "1.5.0",
          "state": {
            "_model_module": "@jupyter-widgets/controls",
            "_model_module_version": "1.5.0",
            "_model_name": "DescriptionStyleModel",
            "_view_count": null,
            "_view_module": "@jupyter-widgets/base",
            "_view_module_version": "1.2.0",
            "_view_name": "StyleView",
            "description_width": ""
          }
        },
        "b00cc85efbf84eb0a27f5f0a5738dbce": {
          "model_module": "@jupyter-widgets/controls",
          "model_name": "LabelModel",
          "model_module_version": "1.5.0",
          "state": {
            "_dom_classes": [],
            "_model_module": "@jupyter-widgets/controls",
            "_model_module_version": "1.5.0",
            "_model_name": "LabelModel",
            "_view_count": null,
            "_view_module": "@jupyter-widgets/controls",
            "_view_module_version": "1.5.0",
            "_view_name": "LabelView",
            "description": "",
            "description_tooltip": null,
            "layout": "IPY_MODEL_a678dff9ed5a4dcc9b529a4cfddd3a15",
            "placeholder": "​",
            "style": "IPY_MODEL_797c8bbbc9814fbda075bdce11894ff3",
            "value": "Connecting..."
          }
        },
        "a678dff9ed5a4dcc9b529a4cfddd3a15": {
          "model_module": "@jupyter-widgets/base",
          "model_name": "LayoutModel",
          "model_module_version": "1.2.0",
          "state": {
            "_model_module": "@jupyter-widgets/base",
            "_model_module_version": "1.2.0",
            "_model_name": "LayoutModel",
            "_view_count": null,
            "_view_module": "@jupyter-widgets/base",
            "_view_module_version": "1.2.0",
            "_view_name": "LayoutView",
            "align_content": null,
            "align_items": null,
            "align_self": null,
            "border": null,
            "bottom": null,
            "display": null,
            "flex": null,
            "flex_flow": null,
            "grid_area": null,
            "grid_auto_columns": null,
            "grid_auto_flow": null,
            "grid_auto_rows": null,
            "grid_column": null,
            "grid_gap": null,
            "grid_row": null,
            "grid_template_areas": null,
            "grid_template_columns": null,
            "grid_template_rows": null,
            "height": null,
            "justify_content": null,
            "justify_items": null,
            "left": null,
            "margin": null,
            "max_height": null,
            "max_width": null,
            "min_height": null,
            "min_width": null,
            "object_fit": null,
            "object_position": null,
            "order": null,
            "overflow": null,
            "overflow_x": null,
            "overflow_y": null,
            "padding": null,
            "right": null,
            "top": null,
            "visibility": null,
            "width": null
          }
        },
        "797c8bbbc9814fbda075bdce11894ff3": {
          "model_module": "@jupyter-widgets/controls",
          "model_name": "DescriptionStyleModel",
          "model_module_version": "1.5.0",
          "state": {
            "_model_module": "@jupyter-widgets/controls",
            "_model_module_version": "1.5.0",
            "_model_name": "DescriptionStyleModel",
            "_view_count": null,
            "_view_module": "@jupyter-widgets/base",
            "_view_module_version": "1.2.0",
            "_view_name": "StyleView",
            "description_width": ""
          }
        },
        "d0401cf1857f457fad97ffe9f30a9fa3": {
          "model_module": "@jupyter-widgets/controls",
          "model_name": "LabelModel",
          "model_module_version": "1.5.0",
          "state": {
            "_dom_classes": [],
            "_model_module": "@jupyter-widgets/controls",
            "_model_module_version": "1.5.0",
            "_model_name": "LabelModel",
            "_view_count": null,
            "_view_module": "@jupyter-widgets/controls",
            "_view_module_version": "1.5.0",
            "_view_name": "LabelView",
            "description": "",
            "description_tooltip": null,
            "layout": "IPY_MODEL_8c8ef26547214bdfa1246c8ce2d34ded",
            "placeholder": "​",
            "style": "IPY_MODEL_5532ebd5a5224d9da9b23587613bd7cf",
            "value": "Token is valid (permission: write)."
          }
        },
        "ed2add2642f5428c970f131ee61c3be1": {
          "model_module": "@jupyter-widgets/controls",
          "model_name": "LabelModel",
          "model_module_version": "1.5.0",
          "state": {
            "_dom_classes": [],
            "_model_module": "@jupyter-widgets/controls",
            "_model_module_version": "1.5.0",
            "_model_name": "LabelModel",
            "_view_count": null,
            "_view_module": "@jupyter-widgets/controls",
            "_view_module_version": "1.5.0",
            "_view_name": "LabelView",
            "description": "",
            "description_tooltip": null,
            "layout": "IPY_MODEL_2259ebd7b1e0441599bbb57c7f6707c2",
            "placeholder": "​",
            "style": "IPY_MODEL_eade2ce58d9f4864a69c4a8fa69446be",
            "value": "Your token has been saved in your configured git credential helpers (store)."
          }
        },
        "4be8e006f1d242da894df7191da06999": {
          "model_module": "@jupyter-widgets/controls",
          "model_name": "LabelModel",
          "model_module_version": "1.5.0",
          "state": {
            "_dom_classes": [],
            "_model_module": "@jupyter-widgets/controls",
            "_model_module_version": "1.5.0",
            "_model_name": "LabelModel",
            "_view_count": null,
            "_view_module": "@jupyter-widgets/controls",
            "_view_module_version": "1.5.0",
            "_view_name": "LabelView",
            "description": "",
            "description_tooltip": null,
            "layout": "IPY_MODEL_7d263b168feb4d5fb80a4ea0e4ecf3c0",
            "placeholder": "​",
            "style": "IPY_MODEL_d7ccdf3fa80a4481b98397e86725578d",
            "value": "Your token has been saved to /root/.cache/huggingface/token"
          }
        },
        "e5b618d4af604917bd535f2a33db290a": {
          "model_module": "@jupyter-widgets/controls",
          "model_name": "LabelModel",
          "model_module_version": "1.5.0",
          "state": {
            "_dom_classes": [],
            "_model_module": "@jupyter-widgets/controls",
            "_model_module_version": "1.5.0",
            "_model_name": "LabelModel",
            "_view_count": null,
            "_view_module": "@jupyter-widgets/controls",
            "_view_module_version": "1.5.0",
            "_view_name": "LabelView",
            "description": "",
            "description_tooltip": null,
            "layout": "IPY_MODEL_c0bafcf1b5f2447d9b92d90ec9999041",
            "placeholder": "​",
            "style": "IPY_MODEL_664cd4fa8ec04a6f94ab3b258460171a",
            "value": "Login successful"
          }
        },
        "8c8ef26547214bdfa1246c8ce2d34ded": {
          "model_module": "@jupyter-widgets/base",
          "model_name": "LayoutModel",
          "model_module_version": "1.2.0",
          "state": {
            "_model_module": "@jupyter-widgets/base",
            "_model_module_version": "1.2.0",
            "_model_name": "LayoutModel",
            "_view_count": null,
            "_view_module": "@jupyter-widgets/base",
            "_view_module_version": "1.2.0",
            "_view_name": "LayoutView",
            "align_content": null,
            "align_items": null,
            "align_self": null,
            "border": null,
            "bottom": null,
            "display": null,
            "flex": null,
            "flex_flow": null,
            "grid_area": null,
            "grid_auto_columns": null,
            "grid_auto_flow": null,
            "grid_auto_rows": null,
            "grid_column": null,
            "grid_gap": null,
            "grid_row": null,
            "grid_template_areas": null,
            "grid_template_columns": null,
            "grid_template_rows": null,
            "height": null,
            "justify_content": null,
            "justify_items": null,
            "left": null,
            "margin": null,
            "max_height": null,
            "max_width": null,
            "min_height": null,
            "min_width": null,
            "object_fit": null,
            "object_position": null,
            "order": null,
            "overflow": null,
            "overflow_x": null,
            "overflow_y": null,
            "padding": null,
            "right": null,
            "top": null,
            "visibility": null,
            "width": null
          }
        },
        "5532ebd5a5224d9da9b23587613bd7cf": {
          "model_module": "@jupyter-widgets/controls",
          "model_name": "DescriptionStyleModel",
          "model_module_version": "1.5.0",
          "state": {
            "_model_module": "@jupyter-widgets/controls",
            "_model_module_version": "1.5.0",
            "_model_name": "DescriptionStyleModel",
            "_view_count": null,
            "_view_module": "@jupyter-widgets/base",
            "_view_module_version": "1.2.0",
            "_view_name": "StyleView",
            "description_width": ""
          }
        },
        "2259ebd7b1e0441599bbb57c7f6707c2": {
          "model_module": "@jupyter-widgets/base",
          "model_name": "LayoutModel",
          "model_module_version": "1.2.0",
          "state": {
            "_model_module": "@jupyter-widgets/base",
            "_model_module_version": "1.2.0",
            "_model_name": "LayoutModel",
            "_view_count": null,
            "_view_module": "@jupyter-widgets/base",
            "_view_module_version": "1.2.0",
            "_view_name": "LayoutView",
            "align_content": null,
            "align_items": null,
            "align_self": null,
            "border": null,
            "bottom": null,
            "display": null,
            "flex": null,
            "flex_flow": null,
            "grid_area": null,
            "grid_auto_columns": null,
            "grid_auto_flow": null,
            "grid_auto_rows": null,
            "grid_column": null,
            "grid_gap": null,
            "grid_row": null,
            "grid_template_areas": null,
            "grid_template_columns": null,
            "grid_template_rows": null,
            "height": null,
            "justify_content": null,
            "justify_items": null,
            "left": null,
            "margin": null,
            "max_height": null,
            "max_width": null,
            "min_height": null,
            "min_width": null,
            "object_fit": null,
            "object_position": null,
            "order": null,
            "overflow": null,
            "overflow_x": null,
            "overflow_y": null,
            "padding": null,
            "right": null,
            "top": null,
            "visibility": null,
            "width": null
          }
        },
        "eade2ce58d9f4864a69c4a8fa69446be": {
          "model_module": "@jupyter-widgets/controls",
          "model_name": "DescriptionStyleModel",
          "model_module_version": "1.5.0",
          "state": {
            "_model_module": "@jupyter-widgets/controls",
            "_model_module_version": "1.5.0",
            "_model_name": "DescriptionStyleModel",
            "_view_count": null,
            "_view_module": "@jupyter-widgets/base",
            "_view_module_version": "1.2.0",
            "_view_name": "StyleView",
            "description_width": ""
          }
        },
        "7d263b168feb4d5fb80a4ea0e4ecf3c0": {
          "model_module": "@jupyter-widgets/base",
          "model_name": "LayoutModel",
          "model_module_version": "1.2.0",
          "state": {
            "_model_module": "@jupyter-widgets/base",
            "_model_module_version": "1.2.0",
            "_model_name": "LayoutModel",
            "_view_count": null,
            "_view_module": "@jupyter-widgets/base",
            "_view_module_version": "1.2.0",
            "_view_name": "LayoutView",
            "align_content": null,
            "align_items": null,
            "align_self": null,
            "border": null,
            "bottom": null,
            "display": null,
            "flex": null,
            "flex_flow": null,
            "grid_area": null,
            "grid_auto_columns": null,
            "grid_auto_flow": null,
            "grid_auto_rows": null,
            "grid_column": null,
            "grid_gap": null,
            "grid_row": null,
            "grid_template_areas": null,
            "grid_template_columns": null,
            "grid_template_rows": null,
            "height": null,
            "justify_content": null,
            "justify_items": null,
            "left": null,
            "margin": null,
            "max_height": null,
            "max_width": null,
            "min_height": null,
            "min_width": null,
            "object_fit": null,
            "object_position": null,
            "order": null,
            "overflow": null,
            "overflow_x": null,
            "overflow_y": null,
            "padding": null,
            "right": null,
            "top": null,
            "visibility": null,
            "width": null
          }
        },
        "d7ccdf3fa80a4481b98397e86725578d": {
          "model_module": "@jupyter-widgets/controls",
          "model_name": "DescriptionStyleModel",
          "model_module_version": "1.5.0",
          "state": {
            "_model_module": "@jupyter-widgets/controls",
            "_model_module_version": "1.5.0",
            "_model_name": "DescriptionStyleModel",
            "_view_count": null,
            "_view_module": "@jupyter-widgets/base",
            "_view_module_version": "1.2.0",
            "_view_name": "StyleView",
            "description_width": ""
          }
        },
        "c0bafcf1b5f2447d9b92d90ec9999041": {
          "model_module": "@jupyter-widgets/base",
          "model_name": "LayoutModel",
          "model_module_version": "1.2.0",
          "state": {
            "_model_module": "@jupyter-widgets/base",
            "_model_module_version": "1.2.0",
            "_model_name": "LayoutModel",
            "_view_count": null,
            "_view_module": "@jupyter-widgets/base",
            "_view_module_version": "1.2.0",
            "_view_name": "LayoutView",
            "align_content": null,
            "align_items": null,
            "align_self": null,
            "border": null,
            "bottom": null,
            "display": null,
            "flex": null,
            "flex_flow": null,
            "grid_area": null,
            "grid_auto_columns": null,
            "grid_auto_flow": null,
            "grid_auto_rows": null,
            "grid_column": null,
            "grid_gap": null,
            "grid_row": null,
            "grid_template_areas": null,
            "grid_template_columns": null,
            "grid_template_rows": null,
            "height": null,
            "justify_content": null,
            "justify_items": null,
            "left": null,
            "margin": null,
            "max_height": null,
            "max_width": null,
            "min_height": null,
            "min_width": null,
            "object_fit": null,
            "object_position": null,
            "order": null,
            "overflow": null,
            "overflow_x": null,
            "overflow_y": null,
            "padding": null,
            "right": null,
            "top": null,
            "visibility": null,
            "width": null
          }
        },
        "664cd4fa8ec04a6f94ab3b258460171a": {
          "model_module": "@jupyter-widgets/controls",
          "model_name": "DescriptionStyleModel",
          "model_module_version": "1.5.0",
          "state": {
            "_model_module": "@jupyter-widgets/controls",
            "_model_module_version": "1.5.0",
            "_model_name": "DescriptionStyleModel",
            "_view_count": null,
            "_view_module": "@jupyter-widgets/base",
            "_view_module_version": "1.2.0",
            "_view_name": "StyleView",
            "description_width": ""
          }
        }
      }
    }
  },
  "cells": [
    {
      "cell_type": "markdown",
      "metadata": {
        "id": "view-in-github",
        "colab_type": "text"
      },
      "source": [
        "<a href=\"https://colab.research.google.com/github/sorendunn/magicoder/blob/main/MagiCoderDataGeneration.ipynb\" target=\"_parent\"><img src=\"https://colab.research.google.com/assets/colab-badge.svg\" alt=\"Open In Colab\"/></a>"
      ]
    },
    {
      "cell_type": "markdown",
      "source": [
        "## Install Dependencies"
      ],
      "metadata": {
        "id": "JGEg9h5-zmiN"
      }
    },
    {
      "cell_type": "code",
      "execution_count": 36,
      "metadata": {
        "colab": {
          "base_uri": "https://localhost:8080/"
        },
        "id": "5wLgkLyFd4Ci",
        "outputId": "91391837-f08c-4cd6-8f31-ece4b935f3b7"
      },
      "outputs": [
        {
          "output_type": "stream",
          "name": "stdout",
          "text": [
            "fatal: destination path 'magicoder' already exists and is not an empty directory.\n"
          ]
        }
      ],
      "source": [
        "!git clone https://github.com/ise-uiuc/magicoder.git"
      ]
    },
    {
      "cell_type": "code",
      "source": [
        "%cd magicoder/"
      ],
      "metadata": {
        "colab": {
          "base_uri": "https://localhost:8080/"
        },
        "id": "hdLDM4jvebBZ",
        "outputId": "10616e4d-bcea-49d3-abdf-7cfff3483d60"
      },
      "execution_count": 37,
      "outputs": [
        {
          "output_type": "stream",
          "name": "stdout",
          "text": [
            "/content/magicoder/magicoder\n"
          ]
        }
      ]
    },
    {
      "cell_type": "code",
      "source": [
        "!pip install datasets"
      ],
      "metadata": {
        "colab": {
          "base_uri": "https://localhost:8080/"
        },
        "id": "qfdwjiFPeqil",
        "outputId": "6ae01ee4-93e3-4727-e7e5-159ae545ae77"
      },
      "execution_count": 39,
      "outputs": [
        {
          "metadata": {
            "tags": null
          },
          "name": "stdout",
          "output_type": "stream",
          "text": [
            "Requirement already satisfied: datasets in /usr/local/lib/python3.10/dist-packages (2.18.0)\n",
            "Requirement already satisfied: filelock in /usr/local/lib/python3.10/dist-packages (from datasets) (3.13.1)\n",
            "Requirement already satisfied: numpy>=1.17 in /usr/local/lib/python3.10/dist-packages (from datasets) (1.25.2)\n",
            "Requirement already satisfied: pyarrow>=12.0.0 in /usr/local/lib/python3.10/dist-packages (from datasets) (14.0.2)\n",
            "Requirement already satisfied: pyarrow-hotfix in /usr/local/lib/python3.10/dist-packages (from datasets) (0.6)\n",
            "Requirement already satisfied: dill<0.3.9,>=0.3.0 in /usr/local/lib/python3.10/dist-packages (from datasets) (0.3.8)\n",
            "Requirement already satisfied: pandas in /usr/local/lib/python3.10/dist-packages (from datasets) (1.5.3)\n",
            "Requirement already satisfied: requests>=2.19.0 in /usr/local/lib/python3.10/dist-packages (from datasets) (2.31.0)\n",
            "Requirement already satisfied: tqdm>=4.62.1 in /usr/local/lib/python3.10/dist-packages (from datasets) (4.66.2)\n",
            "Requirement already satisfied: xxhash in /usr/local/lib/python3.10/dist-packages (from datasets) (3.4.1)\n",
            "Requirement already satisfied: multiprocess in /usr/local/lib/python3.10/dist-packages (from datasets) (0.70.16)\n",
            "Requirement already satisfied: fsspec[http]<=2024.2.0,>=2023.1.0 in /usr/local/lib/python3.10/dist-packages (from datasets) (2023.6.0)\n",
            "Requirement already satisfied: aiohttp in /usr/local/lib/python3.10/dist-packages (from datasets) (3.9.3)\n",
            "Requirement already satisfied: huggingface-hub>=0.19.4 in /usr/local/lib/python3.10/dist-packages (from datasets) (0.20.3)\n",
            "Requirement already satisfied: packaging in /usr/local/lib/python3.10/dist-packages (from datasets) (24.0)\n",
            "Requirement already satisfied: pyyaml>=5.1 in /usr/local/lib/python3.10/dist-packages (from datasets) (6.0.1)\n",
            "Requirement already satisfied: aiosignal>=1.1.2 in /usr/local/lib/python3.10/dist-packages (from aiohttp->datasets) (1.3.1)\n",
            "Requirement already satisfied: attrs>=17.3.0 in /usr/local/lib/python3.10/dist-packages (from aiohttp->datasets) (23.2.0)\n",
            "Requirement already satisfied: frozenlist>=1.1.1 in /usr/local/lib/python3.10/dist-packages (from aiohttp->datasets) (1.4.1)\n",
            "Requirement already satisfied: multidict<7.0,>=4.5 in /usr/local/lib/python3.10/dist-packages (from aiohttp->datasets) (6.0.5)\n",
            "Requirement already satisfied: yarl<2.0,>=1.0 in /usr/local/lib/python3.10/dist-packages (from aiohttp->datasets) (1.9.4)\n",
            "Requirement already satisfied: async-timeout<5.0,>=4.0 in /usr/local/lib/python3.10/dist-packages (from aiohttp->datasets) (4.0.3)\n",
            "Requirement already satisfied: typing-extensions>=3.7.4.3 in /usr/local/lib/python3.10/dist-packages (from huggingface-hub>=0.19.4->datasets) (4.10.0)\n",
            "Requirement already satisfied: charset-normalizer<4,>=2 in /usr/local/lib/python3.10/dist-packages (from requests>=2.19.0->datasets) (3.3.2)\n",
            "Requirement already satisfied: idna<4,>=2.5 in /usr/local/lib/python3.10/dist-packages (from requests>=2.19.0->datasets) (3.6)\n",
            "Requirement already satisfied: urllib3<3,>=1.21.1 in /usr/local/lib/python3.10/dist-packages (from requests>=2.19.0->datasets) (2.0.7)\n",
            "Requirement already satisfied: certifi>=2017.4.17 in /usr/local/lib/python3.10/dist-packages (from requests>=2.19.0->datasets) (2024.2.2)\n",
            "Requirement already satisfied: python-dateutil>=2.8.1 in /usr/local/lib/python3.10/dist-packages (from pandas->datasets) (2.8.2)\n",
            "Requirement already satisfied: pytz>=2020.1 in /usr/local/lib/python3.10/dist-packages (from pandas->datasets) (2023.4)\n",
            "Requirement already satisfied: six>=1.5 in /usr/local/lib/python3.10/dist-packages (from python-dateutil>=2.8.1->pandas->datasets) (1.16.0)\n"
          ]
        }
      ]
    },
    {
      "cell_type": "code",
      "source": [
        "!cp -r src/magicoder magicoder"
      ],
      "metadata": {
        "id": "ZIE0PRqDe0wU"
      },
      "execution_count": 10,
      "outputs": []
    },
    {
      "cell_type": "code",
      "source": [
        "%cd .."
      ],
      "metadata": {
        "colab": {
          "base_uri": "https://localhost:8080/"
        },
        "id": "gwvuJSj7gElZ",
        "outputId": "004388bf-f920-42d3-c058-664dc874ac59"
      },
      "execution_count": 19,
      "outputs": [
        {
          "output_type": "stream",
          "name": "stdout",
          "text": [
            "/content/magicoder\n"
          ]
        }
      ]
    },
    {
      "cell_type": "code",
      "source": [
        "!cp magicoder/generate_data.py generate_data.py"
      ],
      "metadata": {
        "id": "0W85snnSgAaO"
      },
      "execution_count": 20,
      "outputs": []
    },
    {
      "cell_type": "code",
      "source": [
        "%cd magicoder"
      ],
      "metadata": {
        "colab": {
          "base_uri": "https://localhost:8080/"
        },
        "id": "TJlyeumdfOT4",
        "outputId": "2f3be3a2-bf47-4566-8caf-a47dda3661c2"
      },
      "execution_count": 13,
      "outputs": [
        {
          "output_type": "stream",
          "name": "stdout",
          "text": [
            "/content/magicoder/magicoder\n"
          ]
        }
      ]
    },
    {
      "cell_type": "code",
      "source": [
        "!pip install openai"
      ],
      "metadata": {
        "colab": {
          "base_uri": "https://localhost:8080/"
        },
        "id": "tJytCoCpgLks",
        "outputId": "ef30b2b0-b8de-4f29-803f-d81c5dfdbad7"
      },
      "execution_count": 22,
      "outputs": [
        {
          "output_type": "stream",
          "name": "stdout",
          "text": [
            "Collecting openai\n",
            "  Downloading openai-1.14.1-py3-none-any.whl (257 kB)\n",
            "\u001b[?25l     \u001b[90m━━━━━━━━━━━━━━━━━━━━━━━━━━━━━━━━━━━━━━━━\u001b[0m \u001b[32m0.0/257.5 kB\u001b[0m \u001b[31m?\u001b[0m eta \u001b[36m-:--:--\u001b[0m\r\u001b[2K     \u001b[91m━━━━━━━━━━━━━━\u001b[0m\u001b[90m╺\u001b[0m\u001b[90m━━━━━━━━━━━━━━━━━━━━━━━━━\u001b[0m \u001b[32m92.2/257.5 kB\u001b[0m \u001b[31m2.6 MB/s\u001b[0m eta \u001b[36m0:00:01\u001b[0m\r\u001b[2K     \u001b[90m━━━━━━━━━━━━━━━━━━━━━━━━━━━━━━━━━━━━━━━━\u001b[0m \u001b[32m257.5/257.5 kB\u001b[0m \u001b[31m3.9 MB/s\u001b[0m eta \u001b[36m0:00:00\u001b[0m\n",
            "\u001b[?25hRequirement already satisfied: anyio<5,>=3.5.0 in /usr/local/lib/python3.10/dist-packages (from openai) (3.7.1)\n",
            "Requirement already satisfied: distro<2,>=1.7.0 in /usr/lib/python3/dist-packages (from openai) (1.7.0)\n",
            "Collecting httpx<1,>=0.23.0 (from openai)\n",
            "  Downloading httpx-0.27.0-py3-none-any.whl (75 kB)\n",
            "\u001b[2K     \u001b[90m━━━━━━━━━━━━━━━━━━━━━━━━━━━━━━━━━━━━━━━━\u001b[0m \u001b[32m75.6/75.6 kB\u001b[0m \u001b[31m6.2 MB/s\u001b[0m eta \u001b[36m0:00:00\u001b[0m\n",
            "\u001b[?25hRequirement already satisfied: pydantic<3,>=1.9.0 in /usr/local/lib/python3.10/dist-packages (from openai) (2.6.4)\n",
            "Requirement already satisfied: sniffio in /usr/local/lib/python3.10/dist-packages (from openai) (1.3.1)\n",
            "Requirement already satisfied: tqdm>4 in /usr/local/lib/python3.10/dist-packages (from openai) (4.66.2)\n",
            "Requirement already satisfied: typing-extensions<5,>=4.7 in /usr/local/lib/python3.10/dist-packages (from openai) (4.10.0)\n",
            "Requirement already satisfied: idna>=2.8 in /usr/local/lib/python3.10/dist-packages (from anyio<5,>=3.5.0->openai) (3.6)\n",
            "Requirement already satisfied: exceptiongroup in /usr/local/lib/python3.10/dist-packages (from anyio<5,>=3.5.0->openai) (1.2.0)\n",
            "Requirement already satisfied: certifi in /usr/local/lib/python3.10/dist-packages (from httpx<1,>=0.23.0->openai) (2024.2.2)\n",
            "Collecting httpcore==1.* (from httpx<1,>=0.23.0->openai)\n",
            "  Downloading httpcore-1.0.4-py3-none-any.whl (77 kB)\n",
            "\u001b[2K     \u001b[90m━━━━━━━━━━━━━━━━━━━━━━━━━━━━━━━━━━━━━━━━\u001b[0m \u001b[32m77.8/77.8 kB\u001b[0m \u001b[31m8.1 MB/s\u001b[0m eta \u001b[36m0:00:00\u001b[0m\n",
            "\u001b[?25hCollecting h11<0.15,>=0.13 (from httpcore==1.*->httpx<1,>=0.23.0->openai)\n",
            "  Downloading h11-0.14.0-py3-none-any.whl (58 kB)\n",
            "\u001b[2K     \u001b[90m━━━━━━━━━━━━━━━━━━━━━━━━━━━━━━━━━━━━━━━━\u001b[0m \u001b[32m58.3/58.3 kB\u001b[0m \u001b[31m6.5 MB/s\u001b[0m eta \u001b[36m0:00:00\u001b[0m\n",
            "\u001b[?25hRequirement already satisfied: annotated-types>=0.4.0 in /usr/local/lib/python3.10/dist-packages (from pydantic<3,>=1.9.0->openai) (0.6.0)\n",
            "Requirement already satisfied: pydantic-core==2.16.3 in /usr/local/lib/python3.10/dist-packages (from pydantic<3,>=1.9.0->openai) (2.16.3)\n",
            "Installing collected packages: h11, httpcore, httpx, openai\n",
            "Successfully installed h11-0.14.0 httpcore-1.0.4 httpx-0.27.0 openai-1.14.1\n"
          ]
        }
      ]
    },
    {
      "cell_type": "code",
      "source": [
        "!pip install tiktoken"
      ],
      "metadata": {
        "colab": {
          "base_uri": "https://localhost:8080/"
        },
        "id": "4Ra8rJgTgUVL",
        "outputId": "a9a90e09-7d35-4a10-b15b-e16f48404611"
      },
      "execution_count": 24,
      "outputs": [
        {
          "output_type": "stream",
          "name": "stdout",
          "text": [
            "Collecting tiktoken\n",
            "  Downloading tiktoken-0.6.0-cp310-cp310-manylinux_2_17_x86_64.manylinux2014_x86_64.whl (1.8 MB)\n",
            "\u001b[2K     \u001b[90m━━━━━━━━━━━━━━━━━━━━━━━━━━━━━━━━━━━━━━━━\u001b[0m \u001b[32m1.8/1.8 MB\u001b[0m \u001b[31m9.3 MB/s\u001b[0m eta \u001b[36m0:00:00\u001b[0m\n",
            "\u001b[?25hRequirement already satisfied: regex>=2022.1.18 in /usr/local/lib/python3.10/dist-packages (from tiktoken) (2023.12.25)\n",
            "Requirement already satisfied: requests>=2.26.0 in /usr/local/lib/python3.10/dist-packages (from tiktoken) (2.31.0)\n",
            "Requirement already satisfied: charset-normalizer<4,>=2 in /usr/local/lib/python3.10/dist-packages (from requests>=2.26.0->tiktoken) (3.3.2)\n",
            "Requirement already satisfied: idna<4,>=2.5 in /usr/local/lib/python3.10/dist-packages (from requests>=2.26.0->tiktoken) (3.6)\n",
            "Requirement already satisfied: urllib3<3,>=1.21.1 in /usr/local/lib/python3.10/dist-packages (from requests>=2.26.0->tiktoken) (2.0.7)\n",
            "Requirement already satisfied: certifi>=2017.4.17 in /usr/local/lib/python3.10/dist-packages (from requests>=2.26.0->tiktoken) (2024.2.2)\n",
            "Installing collected packages: tiktoken\n",
            "Successfully installed tiktoken-0.6.0\n"
          ]
        }
      ]
    },
    {
      "cell_type": "code",
      "source": [
        "import os\n",
        "from google.colab import userdata\n",
        "\n",
        "os.environ[\"OPENAI_API_KEY\"] = userdata.get('OPENAI_API_KEY')\n",
        "os.environ[\"START_INDEX_OF_RAW_DATA\"] = \"1\"\n",
        "os.environ[\"MAX_DATA_TO_GENERATE\"] = \"1500\"\n",
        "os.environ[\"MBPP_PATH\"] = \"/content/magicoder/mbpp_dataset.jsonl\"\n",
        "os.environ[\"DS1000_PATH\"] = \"/content/magicoder/ds1000_data\"\n",
        "os.environ[\"PREPROCESS_OUTPUT_PATH\"] = \"/content/magicoder/preprocessed.jsonl \""
      ],
      "metadata": {
        "id": "9X5T0YWflSKn"
      },
      "execution_count": 96,
      "outputs": []
    },
    {
      "cell_type": "code",
      "source": [
        "!cp -r magicoder src/magicoder/magicoder"
      ],
      "metadata": {
        "id": "JXbnW06KlmBF"
      },
      "execution_count": 20,
      "outputs": []
    },
    {
      "cell_type": "code",
      "source": [
        "from huggingface_hub import notebook_login\n",
        "\n",
        "notebook_login()"
      ],
      "metadata": {
        "colab": {
          "base_uri": "https://localhost:8080/",
          "height": 162,
          "referenced_widgets": [
            "863aa3a45e0f41009a0d11ddea223c0a",
            "0f100b83caae4fd18e8281253e1d8365",
            "3a135936a1ab4851a625932970c1857a",
            "6c7388848ff2476f9cb5f22a6438e3d7",
            "93596db25326406e84e23e1f3ca381ba",
            "fb1f9562af004823b67a11666297e7bc",
            "86162d2873634899b6555515c53e7c2c",
            "6175f287711142e4b81fa9bceb8cd386",
            "41f655a0e4564c7da562aa09fd73aca5",
            "77d9e8ebd2374e988ee7828dff7e247a",
            "348486b3533c40fcbe649a2a30a5cab0",
            "c37093fb2334403e8b5de083fbc81220",
            "2ffd9610782944d6931dd6ff166777cb",
            "c5a71e425f0b41a99ad8a25c12a8194f",
            "37c4577d99b449a8a5c12ce5bebdcf00",
            "1cfc14a8bf134768ab70617ded36c3db",
            "127334ac754049b2b0bac295173e03e1",
            "b00cc85efbf84eb0a27f5f0a5738dbce",
            "a678dff9ed5a4dcc9b529a4cfddd3a15",
            "797c8bbbc9814fbda075bdce11894ff3",
            "d0401cf1857f457fad97ffe9f30a9fa3",
            "ed2add2642f5428c970f131ee61c3be1",
            "4be8e006f1d242da894df7191da06999",
            "e5b618d4af604917bd535f2a33db290a",
            "8c8ef26547214bdfa1246c8ce2d34ded",
            "5532ebd5a5224d9da9b23587613bd7cf",
            "2259ebd7b1e0441599bbb57c7f6707c2",
            "eade2ce58d9f4864a69c4a8fa69446be",
            "7d263b168feb4d5fb80a4ea0e4ecf3c0",
            "d7ccdf3fa80a4481b98397e86725578d",
            "c0bafcf1b5f2447d9b92d90ec9999041",
            "664cd4fa8ec04a6f94ab3b258460171a"
          ]
        },
        "id": "CgUgX5DbmK2G",
        "outputId": "45aa2498-d3fa-417b-93c9-8ecb781dba1b"
      },
      "execution_count": 41,
      "outputs": [
        {
          "output_type": "display_data",
          "data": {
            "text/plain": [
              "VBox(children=(HTML(value='<center> <img\\nsrc=https://huggingface.co/front/assets/huggingface_logo-noborder.sv…"
            ],
            "application/vnd.jupyter.widget-view+json": {
              "version_major": 2,
              "version_minor": 0,
              "model_id": "863aa3a45e0f41009a0d11ddea223c0a"
            }
          },
          "metadata": {}
        }
      ]
    },
    {
      "cell_type": "code",
      "source": [
        "!cp /content/*.py /content/magicoder/src/magicoder/"
      ],
      "metadata": {
        "id": "6nhTTx_CtGKZ"
      },
      "execution_count": 58,
      "outputs": []
    },
    {
      "cell_type": "code",
      "source": [
        "!cp /content/magicoder/src/magicoder/find_substrings_scot.py /content/magicoder/src/magicoder/decontamination/find_substrings_scot.py"
      ],
      "metadata": {
        "id": "-otIhMmAzbgv"
      },
      "execution_count": 60,
      "outputs": []
    },
    {
      "cell_type": "markdown",
      "source": [
        "### Load in Required Datasets"
      ],
      "metadata": {
        "id": "BdTc3C8y1PIp"
      }
    },
    {
      "cell_type": "code",
      "source": [
        "!unzip ../ds1000_data.zip"
      ],
      "metadata": {
        "id": "x_-blUQu1STK"
      },
      "execution_count": null,
      "outputs": []
    },
    {
      "cell_type": "code",
      "source": [
        "from datasets import load_dataset\n",
        "import json\n",
        "\n",
        "# Load the mbpp dataset\n",
        "dataset = load_dataset(\"mbpp\")\n",
        "\n",
        "# Specify the path for the JSONL file\n",
        "jsonl_file_path = \"mbpp_dataset.jsonl\"\n",
        "\n",
        "# Open the file in write mode\n",
        "with open(jsonl_file_path, 'w', encoding='utf-8') as file:\n",
        "    # Iterate through the dataset\n",
        "    for item in dataset['test']:  # Assuming you want to save the 'train' split.\n",
        "        # Convert the dictionary to a JSON string\n",
        "        json_str = json.dumps(item)\n",
        "        # Write the JSON string to the file, followed by a newline character to separate the records\n",
        "        file.write(json_str + '\\n')\n",
        "\n",
        "print(f\"Dataset saved to {jsonl_file_path}\")"
      ],
      "metadata": {
        "id": "o8WSvjtF4Lee"
      },
      "execution_count": null,
      "outputs": []
    },
    {
      "cell_type": "markdown",
      "source": [
        "## Generate Base Instruction-Tuning Data"
      ],
      "metadata": {
        "id": "Obrk0oDPzsq2"
      }
    },
    {
      "cell_type": "code",
      "source": [
        "!python src/magicoder/generate_data.py \\\n",
        "  --seed_code_start_index ${START_INDEX_OF_RAW_DATA} \\\n",
        "  --max_new_data ${MAX_DATA_TO_GENERATE} \\\n",
        "  --data_dir python \\\n",
        "  --tag python"
      ],
      "metadata": {
        "colab": {
          "base_uri": "https://localhost:8080/"
        },
        "id": "keuN6Zh2ekkL",
        "outputId": "c634a149-2b32-46d7-c0bf-c5de65fa0bfd"
      },
      "execution_count": 91,
      "outputs": [
        {
          "output_type": "stream",
          "name": "stdout",
          "text": [
            "train[:10000]\n",
            "Parameter 'fn_kwargs'={'args': Args(seed_code_start_index=0, max_new_data=10, continue_from=None, seed=976, temperature=0.0, model='gpt-3.5-turbo-1106', model_max_tokens=8192, max_new_tokens=2500, min_lines=1, max_lines=15, chunk_size=1000, dataset_name='Nan-Do/code-search-net-python', data_dir='python', max_considered_data=10000, tag='python')} of the transform datasets.arrow_dataset.Dataset._map_single couldn't be hashed properly, a random hash was used instead. Make sure your transforms and parameters are serializable with pickle or dill for the dataset fingerprinting and caching to work. If you reuse this transform, the caching mechanism will consider it to be different from the previous calls and recompute everything. This warning is only showed once. Subsequent hashing failures won't be showed.\n",
            "Map: 100% 10000/10000 [00:00<00:00, 32979.35 examples/s]\n",
            "Map: 100% 10000/10000 [00:03<00:00, 3123.83 examples/s]\n",
            "Saving to data-python-77804-0_10-20240319_014446.jsonl\n",
            "  0% 0/10 [00:00<?, ?it/s]976\n",
            "[Problem Description]\n",
            "You are tasked with implementing a Python class method that sets a logical ID and corresponding resource data in a dictionary. The method should handle both `SamResource` objects and dictionaries as input. If the input is a `SamResource` object, it should be converted to a dictionary using the `to_dict()` method before being stored in the dictionary. Your task is to complete the implementation of the `set_resource` method in the given Python class.\n",
            "\n",
            "```python\n",
            "class ResourceHandler:\n",
            "    def __init__(self):\n",
            "        self.resources = {}\n",
            "\n",
            "    def set_resource(self, logicalId, resource):\n",
            "        \"\"\"\n",
            "        Sets the logical ID and corresponding resource data in the resources dictionary.\n",
            "\n",
            "        :param string logicalId: Logical Id to set to\n",
            "        :param SamResource or dict resource: The actual resource data\n",
            "        \"\"\"\n",
            "        resource_dict = resource\n",
            "        if isinstance(resource, SamResource):\n",
            "            resource_dict = resource.to_dict()\n",
            "\n",
            "        self.resources[logicalId] = resource_dict\n",
            "```\n",
            "\n",
            "Your task is to complete the `set_resource` method to ensure that it correctly handles both `SamResource` objects and dictionaries, and stores the resource data in the `resources` dictionary with the provided logical ID.\n",
            "\n",
            "[Solution]\n",
            "```python\n",
            "class ResourceHandler:\n",
            "    def __init__(self):\n",
            "        self.resources = {}\n",
            "\n",
            "    def set_resource(self, logicalId, resource):\n",
            "        \"\"\"\n",
            "        Sets the logical ID and corresponding resource data in the resources dictionary.\n",
            "\n",
            "        :param string logicalId: Logical Id to set to\n",
            "        :param SamResource or dict resource: The actual resource data\n",
            "        \"\"\"\n",
            "        resource_dict = resource\n",
            "        if isinstance(resource, SamResource):\n",
            "            resource_dict = resource.to_dict()\n",
            "\n",
            "        self.resources[logicalId] = resource_dict\n",
            "```\n",
            "The `set_resource` method correctly handles both `SamResource` objects and dictionaries. If the input `resource` is a `SamResource` object, it is converted to a dictionary using the `to_dict()` method before being stored in the `resources` dictionary with the provided logical ID. If the input `resource` is already a dictionary, it is directly stored in the `resources` dictionary with the provided logical ID.\n",
            " 10% 1/10 [00:07<01:07,  7.50s/it]977\n",
            "[Problem Description]\n",
            "You are working on a big data processing application that involves using Apache Spark, a popular distributed computing framework. As part of this application, you need to perform a specific operation on a dataset using the `reduceByKey` transformation in Spark.\n",
            "\n",
            "The `reduceByKey` transformation in Spark is used to aggregate the values of each key using a specified associative and commutative function. The general syntax for using `reduceByKey` is as follows:\n",
            "```python\n",
            ".reduceByKey(func, numPartitions)\n",
            "```\n",
            "Where:\n",
            "- `func` is the function used to aggregate the values for each key.\n",
            "- `numPartitions` is an optional parameter that specifies the number of partitions to use in the resulting RDD.\n",
            "\n",
            "Your task is to write a function that takes an input dataset in the form of key-value pairs and applies the `reduceByKey` transformation using a specific aggregation function. You need to implement the aggregation function and apply it to the dataset to obtain the desired result.\n",
            "\n",
            "Write a function `aggregateByKeySum` that takes the following parameters:\n",
            "- `data`: An RDD (Resilient Distributed Dataset) containing key-value pairs, where the keys are of type K and the values are of type V.\n",
            "- `numPartitions`: An integer specifying the number of partitions to use in the resulting RDD.\n",
            "\n",
            "The function should use the `reduceByKey` transformation to aggregate the values for each key by summing them up. The resulting RDD should contain key-value pairs where the keys are the same as in the input RDD, and the values are the sum of the values for each key.\n",
            "\n",
            "Your task is to implement the `aggregateByKeySum` function and apply it to the input dataset to obtain the desired result.\n",
            "\n",
            "[Solution]\n",
            "```python\n",
            "def aggregateByKeySum(data, numPartitions):\n",
            "    # Define the aggregation function for summing up the values\n",
            "    def sumValues(x, y):\n",
            "        return x + y\n",
            "\n",
            "    # Apply reduceByKey transformation with the sumValues function\n",
            "    result = data.reduceByKey(sumValues, numPartitions)\n",
            "\n",
            "    return result\n",
            "```\n",
            "\n",
            "In the solution, the `aggregateByKeySum` function takes the input RDD `data` and the number of partitions `numPartitions`. It defines an aggregation function `sumValues` that takes two values and returns their sum. Then, it applies the `reduceByKey` transformation using the `sumValues` function to aggregate the values for each key. Finally, the resulting RDD is returned as the output.\n",
            " 20% 2/10 [00:14<00:55,  6.98s/it]978\n",
            "[Problem Description]\n",
            "You are tasked with implementing a function that calculates a task ID based on a given file name. The file name follows a specific format, and the function should extract information from the file name to determine the task ID.\n",
            "\n",
            "The file name is structured as follows: `{prefix}-{split}-{shard_id}.ext`, where:\n",
            "- `{prefix}`: A string representing a prefix.\n",
            "- `{split}`: A string representing a split identifier.\n",
            "- `{shard_id}`: An integer representing a shard identifier.\n",
            "- `.ext`: A file extension.\n",
            "\n",
            "The function should calculate the task ID using the following rules:\n",
            "- Split the file name into parts using the hyphen (`-`) as the delimiter.\n",
            "- Extract the `split` and `shard_id` from the parts.\n",
            "- Add the integer value of `shard_id` to the value associated with `split` in the `shard_id_increment` dictionary.\n",
            "- Return the calculated task ID.\n",
            "\n",
            "The `shard_id_increment` dictionary contains key-value pairs where the key is a split identifier and the value is an integer increment. For example:\n",
            "```python\n",
            "shard_id_increment = {\n",
            "    \"A\": 10,\n",
            "    \"B\": 20,\n",
            "    \"C\": 30\n",
            "}\n",
            "```\n",
            "\n",
            "Implement the function `calculate_task_id(fname, shard_id_increment)` that takes in the file name `fname` and the `shard_id_increment` dictionary, and returns the calculated task ID based on the rules described above.\n",
            "\n",
            "Example:\n",
            "```python\n",
            "fname = \"file-A-5.ext\"\n",
            "shard_id_increment = {\n",
            "    \"A\": 10,\n",
            "    \"B\": 20,\n",
            "    \"C\": 30\n",
            "}\n",
            "print(calculate_task_id(fname, shard_id_increment))  # Output: 15\n",
            "```\n",
            "\n",
            "[Solution]\n",
            "```python\n",
            "def calculate_task_id(fname, shard_id_increment):\n",
            "    parts = fname.split(\"-\")\n",
            "    split = parts[1]\n",
            "    shard_id = parts[2].split(\".\")[0]  # Remove the file extension\n",
            "    task_id = int(shard_id) + shard_id_increment[split]\n",
            "    return task_id\n",
            "```\n",
            " 30% 3/10 [00:18<00:41,  5.98s/it]979\n",
            "[Problem Description]\n",
            "You are tasked with implementing a function that takes in a list of integers and returns the maximum sum of a contiguous subarray within the input list. The function should return 0 if the input list is empty or contains only negative numbers.\n",
            "\n",
            "You need to implement the following function:\n",
            "\n",
            "```python\n",
            "def max_subarray_sum(arr: List[int]) -> int:\n",
            "    pass\n",
            "```\n",
            "\n",
            "For example, given the input list `[-2, 1, -3, 4, -1, 2, 1, -5, 4]`, the function should return `6`, as the contiguous subarray `[4, -1, 2, 1]` has the largest sum.\n",
            "\n",
            "[Solution]\n",
            "```python\n",
            "from typing import List\n",
            "\n",
            "def max_subarray_sum(arr: List[int]) -> int:\n",
            "    if not arr or all(num < 0 for num in arr):\n",
            "        return 0\n",
            "    \n",
            "    max_sum = float('-inf')\n",
            "    current_sum = 0\n",
            "    \n",
            "    for num in arr:\n",
            "        current_sum = max(num, current_sum + num)\n",
            "        max_sum = max(max_sum, current_sum)\n",
            "    \n",
            "    return max_sum\n",
            "```\n",
            "The `max_subarray_sum` function first checks if the input list is empty or contains only negative numbers, in which case it returns 0. Otherwise, it initializes `max_sum` to negative infinity and `current_sum` to 0. It then iterates through the input list, updating `current_sum` to be the maximum of the current number and the sum of the current number and the previous `current_sum`. At each step, it also updates `max_sum` to be the maximum of the current `max_sum` and `current_sum`. Finally, it returns the `max_sum` as the result.\n",
            " 40% 4/10 [00:23<00:33,  5.56s/it]980\n",
            "[Problem Description]\n",
            "You are given a Python class method that performs certain operations based on input parameters. Your task is to understand the method's behavior and implement a similar functionality in a different programming language.\n",
            "\n",
            "The given Python method is as follows:\n",
            "```python\n",
            "def resolve_operation(self, other_first, other_second):\n",
            "    if not other_first:\n",
            "        return None\n",
            "    other_second = other_second.resolve(other_first)\n",
            "    if not other_second:\n",
            "        return None\n",
            "    return UnaryOpType(other_first, self._allowed_substitutions, self._signature)\n",
            "```\n",
            "Here, `other_first` and `other_second` are input parameters, and `self._allowed_substitutions` and `self._signature` are attributes of the class instance.\n",
            "\n",
            "Your task is to implement a similar method in a different programming language, such as Java or C++, that achieves the same functionality as the given Python method. You should define the method signature and provide the necessary logic to replicate the behavior of the Python method.\n",
            "\n",
            "[Solution]\n",
            "In Java, the equivalent method can be implemented as follows:\n",
            "\n",
            "```java\n",
            "public UnaryOpType resolveOperation(OtherType otherFirst, OtherType otherSecond) {\n",
            "    if (otherFirst == null) {\n",
            "        return null;\n",
            "    }\n",
            "    OtherType resolvedSecond = otherSecond.resolve(otherFirst);\n",
            "    if (resolvedSecond == null) {\n",
            "        return null;\n",
            "    }\n",
            "    return new UnaryOpType(otherFirst, this.allowedSubstitutions, this.signature);\n",
            "}\n",
            "```\n",
            "In this Java implementation, `OtherType` represents the type of `other_first` and `other_second`, and `UnaryOpType` represents the return type of the method. The method checks if `otherFirst` is not null, resolves `otherSecond` based on `otherFirst`, and then creates a new `UnaryOpType` object using the resolved `otherFirst`, `allowedSubstitutions`, and `signature` attributes of the class instance. If `otherFirst` is null or the resolved `otherSecond` is null, the method returns null.\n",
            " 50% 5/10 [00:29<00:27,  5.43s/it]981\n",
            "[Problem Description]\n",
            "You are tasked with implementing a role-based access control system for a web application. The system should allow administrators to configure roles and their associated permissions. Each role can have multiple members, and each member can have multiple roles. The system should also support the addition and removal of members from roles.\n",
            "\n",
            "You are given a partial code snippet that handles the addition of members to roles. The snippet uses a dictionary `binding` to store role-member mappings and a list `policy[\"bindings\"]` to store the configured bindings. The code snippet contains a logical error that needs to be identified and fixed.\n",
            "\n",
            "Your task is to identify the logical error in the code snippet and correct it to ensure that members are correctly added to roles. Additionally, you need to implement a function to remove a member from a role.\n",
            "\n",
            "Code Snippet:\n",
            "```python\n",
            "def add_member_to_role(policy, role_name, member_id):\n",
            "    role_exists = False\n",
            "    already_configured = True\n",
            "\n",
            "    for binding in policy[\"bindings\"]:\n",
            "        if binding[\"role\"] == role_name:\n",
            "            role_exists = True\n",
            "            if member_id not in binding[\"members\"]:\n",
            "                binding[\"members\"].append(member_id)\n",
            "                already_configured = False\n",
            "            break\n",
            "\n",
            "    if not role_exists:\n",
            "        already_configured = False\n",
            "        policy[\"bindings\"].append({\n",
            "            \"role\": role_name,\n",
            "            \"members\": [member_id]\n",
            "        })\n",
            "\n",
            "    return already_configured\n",
            "\n",
            "def remove_member_from_role(policy, role_name, member_id):\n",
            "    for binding in policy[\"bindings\"]:\n",
            "        if binding[\"role\"] == role_name and member_id in binding[\"members\"]:\n",
            "            binding[\"members\"].remove(member_id)\n",
            "            return True\n",
            "    return False\n",
            "```\n",
            "\n",
            "Your task is to:\n",
            "1. Identify and correct the logical error in the `add_member_to_role` function to ensure that members are correctly added to roles.\n",
            "2. Implement the `remove_member_from_role` function to remove a member from a role.\n",
            "\n",
            "[Solution]\n",
            "```python\n",
            "def add_member_to_role(policy, role_name, member_id):\n",
            "    role_exists = False\n",
            "    already_configured = True\n",
            "\n",
            "    for binding in policy[\"bindings\"]:\n",
            "        if binding[\"role\"] == role_name:\n",
            "            role_exists = True\n",
            "            if member_id not in binding[\"members\"]:\n",
            "                binding[\"members\"].append(member_id)\n",
            "                already_configured = False\n",
            "            break\n",
            "\n",
            "    if not role_exists:\n",
            "        already_configured = False\n",
            "        policy[\"bindings\"].append({\n",
            "            \"role\": role_name,\n",
            "            \"members\": [member_id]\n",
            "        })\n",
            "\n",
            "    return already_configured\n",
            "\n",
            "def remove_member_from_role(policy, role_name, member_id):\n",
            "    for binding in policy[\"bindings\"]:\n",
            "        if binding[\"role\"] == role_name and member_id in binding[\"members\"]:\n",
            "            binding[\"members\"].remove(member_id)\n",
            "            return True\n",
            "    return False\n",
            "```\n",
            "\n",
            "The logical error in the `add_member_to_role` function has been corrected to ensure that members are correctly added to roles. Additionally, the `remove_member_from_role` function has been implemented to remove a member from a role.\n",
            " 60% 6/10 [00:39<00:28,  7.22s/it]982\n",
            "[Problem Description]\n",
            "You are tasked with implementing a Python class method that generates a string representing the axis descriptions for a given data structure. The method should construct a string containing the axis names along with their corresponding indices in a specific format. Additionally, the method should determine the appropriate name for the data structure based on its dimensions.\n",
            "\n",
            "You are provided with a code snippet that partially implements the required functionality. Your task is to complete the implementation of the method based on the given context and requirements.\n",
            "\n",
            "Your implementation should adhere to the following requirements:\n",
            "- The method should be a class method within a Python class.\n",
            "- The method should construct a string representing the axis descriptions in the format \"{axis_name} ({index}), {axis_name} ({index}), ...\" where {axis_name} is the name of the axis and {index} is its corresponding index.\n",
            "- If the data structure has more than one axis, the name of the data structure should be determined as the value of `cls._constructor_sliced.__name__`. If the data structure has only one axis, the name should be 'scalar'.\n",
            "- The axis names and indices are provided in the `cls._AXIS_ORDERS` attribute, and the number of axes is represented by `cls._AXIS_LEN`.\n",
            "\n",
            "Your task is to complete the implementation of the class method to fulfill the specified requirements.\n",
            "\n",
            "[Solution]\n",
            "```python\n",
            "class DataStructure:\n",
            "    _AXIS_ORDERS = ['X', 'Y', 'Z']  # Example axis names\n",
            "    _AXIS_LEN = 3  # Example number of axes\n",
            "    _constructor_sliced = None  # Example constructor attribute\n",
            "\n",
            "    @classmethod\n",
            "    def generate_axis_description(cls):\n",
            "        axis_descr = \"{%s}\" % ', '.join(\"{0} ({1})\".format(a, i)\n",
            "                                        for i, a in enumerate(cls._AXIS_ORDERS))\n",
            "        name = (cls._constructor_sliced.__name__\n",
            "                if cls._AXIS_LEN > 1 else 'scalar')\n",
            "        return axis_descr, name\n",
            "```\n",
            "\n",
            "In the provided solution, the `generate_axis_description` class method is implemented to construct the axis descriptions and determine the appropriate name for the data structure based on its dimensions. The method constructs the axis descriptions using the axis names and their corresponding indices, and determines the name of the data structure as per the specified requirements. The completed implementation fulfills the given context and requirements.\n",
            " 70% 7/10 [00:45<00:20,  6.73s/it]983\n",
            "[Problem Description]\n",
            "You are tasked with implementing a custom gradient function for a forward function using Python. The forward function takes a variable number of inputs and applies a custom gradient function to compute the gradients with respect to the inputs. The custom gradient function is provided as a separate function and is used to compute the gradients for the inputs.\n",
            "\n",
            "Your task is to implement the custom gradient function and apply it to the forward function to compute the gradients for the inputs.\n",
            "\n",
            "Implement the `grad_fn` function, which takes `grad_inputs` as input and appends it to the `out_dep` list. Then, it returns `grad_inputs` and a list of `None` values with the length of `variables`.\n",
            "\n",
            "Your implementation should adhere to the following guidelines:\n",
            "- Implement the `grad_fn` function to append `grad_inputs` to the `out_dep` list and return `grad_inputs` and a list of `None` values with the length of `variables`.\n",
            "- Use the `@common_layers.fn_with_custom_grad` decorator to apply the `grad_fn` as the custom gradient function for the `forward` function.\n",
            "- Ensure that the `forward` function takes a variable number of inputs and uses the custom gradient function to compute the gradients for the inputs.\n",
            "\n",
            "[Solution]\n",
            "```python\n",
            "# Implement the grad_fn function\n",
            "def grad_fn(grad_inputs, variables):\n",
            "    out_dep.append(grad_inputs)\n",
            "    return grad_inputs, [None] * len(variables)\n",
            "\n",
            "# Apply the grad_fn as the custom gradient function for the forward function\n",
            "@common_layers.fn_with_custom_grad(grad_fn, use_global_vars=True)\n",
            "def forward(*inputs):\n",
            "    # Implement the forward function logic here\n",
            "    pass\n",
            "```\n",
            "In the solution, the `grad_fn` function appends the `grad_inputs` to the `out_dep` list and returns `grad_inputs` along with a list of `None` values with the length of `variables`. The `@common_layers.fn_with_custom_grad` decorator is used to apply the `grad_fn` as the custom gradient function for the `forward` function, which takes a variable number of inputs and uses the custom gradient function to compute the gradients for the inputs.\n",
            " 80% 8/10 [00:50<00:12,  6.35s/it]984\n",
            "[Problem Description]\n",
            "You are tasked with implementing a package management system for a Python application. The system should be able to install and uninstall modules based on the given sets of modules to be installed and uninstalled. The `sync` function takes the following parameters:\n",
            "- `to_install`: A set of modules to be installed.\n",
            "- `to_uninstall`: A set of modules to be uninstalled.\n",
            "- `verbose`: A boolean flag indicating whether to display detailed information during the installation and uninstallation process. Default value is `False`.\n",
            "- `dry_run`: A boolean flag indicating whether the installation and uninstallation should be simulated without actually modifying the system. Default value is `False`.\n",
            "- `install_flags`: Additional flags to be passed to the installation process. Default value is `None`.\n",
            "\n",
            "The function should perform the following actions:\n",
            "1. If both `to_install` and `to_uninstall` are empty sets, it should print \"Everything up-to-date\" using `click.echo`.\n",
            "2. If `to_install` is not empty, it should install the specified modules.\n",
            "3. If `to_uninstall` is not empty, it should uninstall the specified modules.\n",
            "4. If `verbose` is `True`, it should display detailed information about the installation and uninstallation process.\n",
            "5. If `dry_run` is `True`, it should simulate the installation and uninstallation without actually modifying the system.\n",
            "6. If `install_flags` is provided, it should pass the flags to the installation process.\n",
            "\n",
            "Your task is to implement the `sync` function according to the specified requirements.\n",
            "\n",
            "[Solution]\n",
            "```python\n",
            "import click\n",
            "\n",
            "def sync(to_install, to_uninstall, verbose=False, dry_run=False, install_flags=None):\n",
            "    \"\"\"\n",
            "    Install and uninstalls the given sets of modules.\n",
            "    \"\"\"\n",
            "    if not to_uninstall and not to_install:\n",
            "        click.echo(\"Everything up-to-date\")\n",
            "    else:\n",
            "        if verbose:\n",
            "            click.echo(\"Starting synchronization process...\")\n",
            "        \n",
            "        if to_install:\n",
            "            if dry_run:\n",
            "                click.echo(\"Simulating installation of modules: {}\".format(to_install))\n",
            "            else:\n",
            "                for module in to_install:\n",
            "                    click.echo(\"Installing module: {}\".format(module))\n",
            "                    # Perform actual installation here\n",
            "                click.echo(\"Installation complete\")\n",
            "        \n",
            "        if to_uninstall:\n",
            "            if dry_run:\n",
            "                click.echo(\"Simulating uninstallation of modules: {}\".format(to_uninstall))\n",
            "            else:\n",
            "                for module in to_uninstall:\n",
            "                    click.echo(\"Uninstalling module: {}\".format(module))\n",
            "                    # Perform actual uninstallation here\n",
            "                click.echo(\"Uninstallation complete\")\n",
            "        \n",
            "        if verbose:\n",
            "            click.echo(\"Synchronization process complete\")\n",
            "```\n",
            "In the solution, the `sync` function first checks if both `to_install` and `to_uninstall` are empty sets, and if so, it prints \"Everything up-to-date\". Otherwise, it proceeds with the installation and uninstallation process based on the provided sets of modules. If `verbose` is `True`, it displays detailed information about the process, and if `dry_run` is `True`, it simulates the installation and uninstallation without modifying the system. The `install_flags` are passed to the installation process if provided.\n",
            " 90% 9/10 [00:59<00:06,  6.99s/it]985\n",
            "[Problem Description]\n",
            "You are tasked with implementing a function that processes a list of resources and returns a modified version of the list. Each resource is represented as a dictionary with the following structure:\n",
            "```python\n",
            "{\n",
            "    \"name\": \"resource_name\",\n",
            "    \"type\": \"resource_type\",\n",
            "    \"quantity\": resource_quantity\n",
            "}\n",
            "```\n",
            "Your task is to create a function `process_resources(resources)` that takes a list of resource dictionaries as input and returns a new list with the following modifications:\n",
            "1. For each resource, if the quantity is greater than 100, the quantity should be doubled.\n",
            "2. For each resource of type \"material\", the name should be prefixed with \"Processed \".\n",
            "\n",
            "The function should return the modified list of resources.\n",
            "\n",
            "Example:\n",
            "Input:\n",
            "```python\n",
            "[\n",
            "    {\"name\": \"wood\", \"type\": \"material\", \"quantity\": 150},\n",
            "    {\"name\": \"iron\", \"type\": \"material\", \"quantity\": 80},\n",
            "    {\"name\": \"gold\", \"type\": \"metal\", \"quantity\": 200}\n",
            "]\n",
            "```\n",
            "Output:\n",
            "```python\n",
            "[\n",
            "    {\"name\": \"Processed wood\", \"type\": \"material\", \"quantity\": 300},\n",
            "    {\"name\": \"Processed iron\", \"type\": \"material\", \"quantity\": 80},\n",
            "    {\"name\": \"gold\", \"type\": \"metal\", \"quantity\": 400}\n",
            "]\n",
            "```\n",
            "\n",
            "[Solution]\n",
            "```python\n",
            "def process_resources(resources):\n",
            "    processed_resources = []\n",
            "    for resource in resources:\n",
            "        if resource[\"quantity\"] > 100:\n",
            "            resource[\"quantity\"] *= 2\n",
            "        if resource[\"type\"] == \"material\":\n",
            "            resource[\"name\"] = \"Processed \" + resource[\"name\"]\n",
            "        processed_resources.append(resource)\n",
            "    return processed_resources\n",
            "```\n",
            "100% 10/10 [01:04<00:00,  6.43s/it]\n"
          ]
        }
      ]
    },
    {
      "cell_type": "code",
      "source": [
        "!python src/magicoder/clean_data.py --data_files /content/magicoder/data-python-77804-0_10-20240319_014446.jsonl --output_file /content/magicoder/cleaned_data_test.jsonl"
      ],
      "metadata": {
        "colab": {
          "base_uri": "https://localhost:8080/"
        },
        "id": "mCzGctljmRzY",
        "outputId": "b75ca06e-38f0-4f24-fed0-148d5654cc1b"
      },
      "execution_count": 92,
      "outputs": [
        {
          "output_type": "stream",
          "name": "stdout",
          "text": [
            "\rFiltering same seed, problem, and solution:   0% 0/10 [00:00<?, ?it/s]\rFiltering same seed, problem, and solution: 100% 10/10 [00:00<00:00, 17091.70it/s]\n",
            "After filtering: 10 -> 10\n",
            "/content/magicoder/src/magicoder/clean_data.py:194: UserWarning: In practice, filtering data whose solution copies the problem does not help much.So we disabled it. But this conclusion remains to be verified.\n",
            "  warnings.warn(\n"
          ]
        }
      ]
    },
    {
      "cell_type": "code",
      "source": [
        "!python -m magicoder.decontamination.find_substrings \\\n",
        "  --dataset_name \"json\" \\\n",
        "  --output_file /content/magicoder/decontaminated_test.jsonl \\\n",
        "  --output_dir /content/magicoder/decontaminated_test \\\n",
        "  --columns problem solution \\\n",
        "  --data_files /content/magicoder/cleaned_data_test.jsonl"
      ],
      "metadata": {
        "colab": {
          "base_uri": "https://localhost:8080/"
        },
        "id": "_xVAF_9imZbl",
        "outputId": "dda7c743-d858-4236-d21d-853ad8f92503"
      },
      "execution_count": 93,
      "outputs": [
        {
          "output_type": "stream",
          "name": "stdout",
          "text": [
            "Ignoring: ['']\n",
            "/usr/local/lib/python3.10/dist-packages/datasets/load.py:1461: FutureWarning: The repository for codeparrot/apps contains custom code which must be executed to correctly load the dataset. You can inspect the repository content at https://hf.co/datasets/codeparrot/apps\n",
            "You can avoid this message in future by passing the argument `trust_remote_code=True`.\n",
            "Passing `trust_remote_code=True` will be mandatory to load this dataset from the next major release of `datasets`.\n",
            "  warnings.warn(\n",
            "num strings from mbpp_docstrings: 500\n",
            "num strings from mbpp_solutions: 500\n",
            "num strings from human_eval_docstrings: 164\n",
            "num strings from human_eval_solutions: 161\n",
            "num strings from apps_docstrings: 5000\n",
            "num strings from gsm8k_questions: 1319\n",
            "num strings from ds_1000_prompts: 1000\n",
            "Generating train split: 10 examples [00:00, 699.59 examples/s]\n",
            "num_proc must be <= 10. Reducing num_proc to 10 for dataset of size 10.\n",
            "Map (num_proc=10): 100% 10/10 [00:02<00:00,  4.95 examples/s]\n",
            "Number of samples in the new dataset:  10\n",
            "{}\n",
            "Number of excluded examples:  0\n"
          ]
        }
      ]
    },
    {
      "cell_type": "code",
      "source": [
        "!python src/magicoder/preprocess_data.py \\\n",
        "  --dataset_path json \\\n",
        "  --data_files /content/magicoder/decontaminated_test.jsonl \\\n",
        "  --output_file ${PREPROCESS_OUTPUT_PATH} \\\n",
        "  --key src-instruct"
      ],
      "metadata": {
        "colab": {
          "base_uri": "https://localhost:8080/"
        },
        "id": "dTowzoy9mdqr",
        "outputId": "10f1baa1-62fd-4158-abc1-d524e0e75f4a"
      },
      "execution_count": 94,
      "outputs": [
        {
          "output_type": "stream",
          "name": "stdout",
          "text": [
            "\rGenerating train split: 0 examples [00:00, ? examples/s]\rGenerating train split: 10 examples [00:00, 1998.81 examples/s]\n",
            "\rMap:   0% 0/10 [00:00<?, ? examples/s]\rMap: 100% 10/10 [00:00<00:00, 788.25 examples/s]\n"
          ]
        }
      ]
    },
    {
      "cell_type": "markdown",
      "source": [
        "## Generate Code Search Net Training Data"
      ],
      "metadata": {
        "id": "0wbERi8Uz4lr"
      }
    },
    {
      "cell_type": "code",
      "source": [
        "import os\n",
        "from google.colab import userdata\n",
        "\n",
        "os.environ[\"OPENAI_API_KEY\"] = userdata.get('OPENAI_API_KEY')\n",
        "os.environ[\"START_INDEX_OF_RAW_DATA\"] = \"0\"\n",
        "os.environ[\"MAX_DATA_TO_GENERATE\"] = \"150\"\n",
        "os.environ[\"MBPP_PATH\"] = \"/content/magicoder/mbpp_dataset.jsonl\"\n",
        "os.environ[\"DS1000_PATH\"] = \"/content/magicoder/ds1000_data\"\n",
        "os.environ[\"PREPROCESS_OUTPUT_PATH\"] = \"/content/magicoder/preprocessed_code_search_net.jsonl\"\n",
        "os.environ[\"PATH_TO_DATA_FILE\"] = \"/content/magicoder/CHANGE.jsonl\" ## May need to change\n",
        "os.environ[\"CLEANING_OUTPUT_PATH\"] = \"/content/magicoder/cleaned_data_code_search_net.jsonl\"\n",
        "os.environ[\"DECONTAM_OUTPUT_PATH\"] = \"/content/magicoder/decontaminated_code_search_net.jsonl\"\n",
        "os.environ[\"OUTPUT_DIR\"] = \"/content/magicoder/decontaminated_code_search_net\"\n",
        "os.environ[\"PATH_TO_DATA_FILE\"] = \"/content/magicoder/cleaned_code_search_net.jsonl\"\n",
        "os.environ[\"PREPROCESS_OUTPUT_PATH\"] = \"/content/magicoder/preprocessed_code_search_net.jsonl\""
      ],
      "metadata": {
        "id": "5BADGRV614zm"
      },
      "execution_count": 105,
      "outputs": []
    },
    {
      "cell_type": "code",
      "source": [
        "%cd /content/magicoder"
      ],
      "metadata": {
        "colab": {
          "base_uri": "https://localhost:8080/"
        },
        "id": "xlXOvv1-08gk",
        "outputId": "94e40b2c-706b-4e6c-cdd4-b1f0e158c40a"
      },
      "execution_count": 98,
      "outputs": [
        {
          "output_type": "stream",
          "name": "stdout",
          "text": [
            "/content/magicoder\n"
          ]
        }
      ]
    },
    {
      "cell_type": "code",
      "source": [
        "!python src/magicoder/generate_data.py \\\n",
        "  --seed_code_start_index ${START_INDEX_OF_RAW_DATA} \\\n",
        "  --max_new_data ${MAX_DATA_TO_GENERATE} \\\n",
        "  --data_dir python \\\n",
        "  --tag python"
      ],
      "metadata": {
        "colab": {
          "base_uri": "https://localhost:8080/"
        },
        "id": "G_y9Ezkwz31O",
        "outputId": "88e6e09e-06b7-4ae2-b4e2-e00279a58264"
      },
      "execution_count": 109,
      "outputs": [
        {
          "output_type": "stream",
          "name": "stdout",
          "text": [
            "train[:150000]\n",
            "Parameter 'fn_kwargs'={'args': Args(seed_code_start_index=0, max_new_data=150, continue_from=None, seed=976, temperature=0.0, model='gpt-3.5-turbo-0125', model_max_tokens=8192, max_new_tokens=2500, min_lines=1, max_lines=15, chunk_size=1000, dataset_name='Nan-Do/code-search-net-python', data_dir='python', max_considered_data=150000, tag='python')} of the transform datasets.arrow_dataset.Dataset._map_single couldn't be hashed properly, a random hash was used instead. Make sure your transforms and parameters are serializable with pickle or dill for the dataset fingerprinting and caching to work. If you reuse this transform, the caching mechanism will consider it to be different from the previous calls and recompute everything. This warning is only showed once. Subsequent hashing failures won't be showed.\n",
            "Map: 100% 150000/150000 [00:05<00:00, 29488.85 examples/s]\n",
            "Map: 100% 150000/150000 [00:49<00:00, 3043.63 examples/s]\n",
            "Saving to data-python-ccfa1-0_150-20240319_025925.jsonl\n",
            "Traceback (most recent call last):\n",
            "  File \"/content/magicoder/src/magicoder/generate_data.py\", line 223, in <module>\n",
            "    main()\n",
            "  File \"/content/magicoder/src/magicoder/generate_data.py\", line 219, in main\n",
            "    responses = asyncio.run(process_entries(dataset, args, prompt_template))\n",
            "  File \"/usr/lib/python3.10/asyncio/runners.py\", line 44, in run\n",
            "    return loop.run_until_complete(main)\n",
            "  File \"/usr/lib/python3.10/asyncio/base_events.py\", line 649, in run_until_complete\n",
            "    return future.result()\n",
            "  File \"/content/magicoder/src/magicoder/generate_data.py\", line 147, in process_entries\n",
            "    tasks = [\n",
            "  File \"/content/magicoder/src/magicoder/generate_data.py\", line 150, in <listcomp>\n",
            "    if index >= args.n_skipped  # Assuming n_skipped is defined in args\n",
            "AttributeError: 'Args' object has no attribute 'n_skipped'\n"
          ]
        }
      ]
    },
    {
      "cell_type": "code",
      "source": [
        "!python src/magicoder/clean_data_scot.py --data_files ${PATH_TO_DATA_FILE} --output_file ${CLEANING_OUTPUT_PATH}"
      ],
      "metadata": {
        "id": "mstAcxXO0Bem"
      },
      "execution_count": null,
      "outputs": []
    },
    {
      "cell_type": "code",
      "source": [
        "!python -m magicoder.decontamination.find_substrings_scot \\\n",
        "  --dataset_name \"json\" \\\n",
        "  --output_file ${DECONTAM_OUTPUT_PATH} \\\n",
        "  --output_dir ${OUTPUT_DIR} \\\n",
        "  --columns problem solution \\\n",
        "  --data_files ${PATH_TO_DATA_FILE}"
      ],
      "metadata": {
        "id": "XpDxZUQe0BS3"
      },
      "execution_count": null,
      "outputs": []
    },
    {
      "cell_type": "code",
      "source": [
        "!python src/magicoder/preprocess_data_scot.py \\\n",
        "  --dataset_path json \\\n",
        "  --data_files /content/magicoder/decontaminated.jsonl \\\n",
        "  --output_file ${PREPROCESS_OUTPUT_PATH} \\\n",
        "  --key src-instruct"
      ],
      "metadata": {
        "id": "aCy2MoZc0BEG"
      },
      "execution_count": null,
      "outputs": []
    }
  ]
}